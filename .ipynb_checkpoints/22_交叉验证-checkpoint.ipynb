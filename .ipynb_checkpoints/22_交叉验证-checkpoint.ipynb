{
 "cells": [
  {
   "cell_type": "markdown",
   "metadata": {},
   "source": [
    "# 交叉验证"
   ]
  },
  {
   "cell_type": "code",
   "execution_count": 2,
   "metadata": {},
   "outputs": [],
   "source": [
    "import numpy as np\n",
    "from sklearn import datasets\n",
    "digits=datasets.load_digits()\n",
    "X=digits.data\n",
    "y=digits.target"
   ]
  },
  {
   "cell_type": "code",
   "execution_count": 6,
   "metadata": {},
   "outputs": [],
   "source": [
    "from sklearn.model_selection import train_test_split\n",
    "X_train,X_test,y_train,y_test=train_test_split(X,y,test_size=0.4,random_state=666)"
   ]
  },
  {
   "cell_type": "code",
   "execution_count": 7,
   "metadata": {},
   "outputs": [
    {
     "name": "stdout",
     "output_type": "stream",
     "text": [
      "Best K= 3\n",
      "Best P= 4\n",
      "Best Score= 0.9860917941585535\n"
     ]
    }
   ],
   "source": [
    "from sklearn.neighbors import KNeighborsClassifier\n",
    "best_score,best_p,best_k=0,0,0\n",
    "for k in range(2,11):\n",
    "    for p in range(1,6):\n",
    "        knn_clf=KNeighborsClassifier(weights=\"distance\",n_neighbors=k,p=p)\n",
    "        knn_clf.fit(X_train,y_train)\n",
    "        score=knn_clf.score(X_test,y_test)\n",
    "        if score> best_score:\n",
    "            best_score,best_p,best_k=score,p,k\n",
    "print(\"Best K=\",best_k)\n",
    "print(\"Best P=\",best_p)\n",
    "print(\"Best Score=\",best_score)"
   ]
  },
  {
   "cell_type": "code",
   "execution_count": 9,
   "metadata": {},
   "outputs": [
    {
     "data": {
      "text/plain": [
       "array([0.98895028, 0.97777778, 0.96629213])"
      ]
     },
     "execution_count": 9,
     "metadata": {},
     "output_type": "execute_result"
    }
   ],
   "source": [
    "from sklearn.model_selection import cross_val_score\n",
    "knn_clf=KNeighborsClassifier()\n",
    "cross_val_score(knn_clf,X_train,y_train,cv=3)"
   ]
  },
  {
   "cell_type": "code",
   "execution_count": 13,
   "metadata": {},
   "outputs": [
    {
     "name": "stdout",
     "output_type": "stream",
     "text": [
      "Best K= 2\n",
      "Best P= 2\n",
      "Best Score= 0.9851473095532756\n"
     ]
    }
   ],
   "source": [
    "from sklearn.neighbors import KNeighborsClassifier\n",
    "best_score,best_p,best_k=0,0,0\n",
    "for k in range(2,11):\n",
    "    for p in range(1,6):\n",
    "        knn_clf=KNeighborsClassifier(weights=\"distance\",n_neighbors=k,p=p)\n",
    "        scores=cross_val_score(knn_clf,X_train,y_train,cv=5)\n",
    "        score=np.mean(scores)\n",
    "        if score> best_score:\n",
    "            best_score,best_p,best_k=score,p,k\n",
    "print(\"Best K=\",best_k)\n",
    "print(\"Best P=\",best_p)\n",
    "print(\"Best Score=\",best_score)"
   ]
  },
  {
   "cell_type": "code",
   "execution_count": 11,
   "metadata": {},
   "outputs": [],
   "source": [
    "best_knn_clf=KNeighborsClassifier(weights=\"distance\",n_neighbors=2,p=2)"
   ]
  },
  {
   "cell_type": "code",
   "execution_count": 12,
   "metadata": {},
   "outputs": [
    {
     "data": {
      "text/plain": [
       "0.980528511821975"
      ]
     },
     "execution_count": 12,
     "metadata": {},
     "output_type": "execute_result"
    }
   ],
   "source": [
    "best_knn_clf.fit(X_train,y_train)\n",
    "best_knn_clf.score(X_test,y_test)"
   ]
  },
  {
   "cell_type": "code",
   "execution_count": null,
   "metadata": {},
   "outputs": [],
   "source": []
  }
 ],
 "metadata": {
  "kernelspec": {
   "display_name": "Python 3",
   "language": "python",
   "name": "python3"
  },
  "language_info": {
   "codemirror_mode": {
    "name": "ipython",
    "version": 3
   },
   "file_extension": ".py",
   "mimetype": "text/x-python",
   "name": "python",
   "nbconvert_exporter": "python",
   "pygments_lexer": "ipython3",
   "version": "3.7.1"
  }
 },
 "nbformat": 4,
 "nbformat_minor": 2
}
