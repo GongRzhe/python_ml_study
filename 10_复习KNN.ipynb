{
 "cells": [
  {
   "cell_type": "code",
   "execution_count": 1,
   "metadata": {},
   "outputs": [],
   "source": [
    "from sklearn import datasets"
   ]
  },
  {
   "cell_type": "code",
   "execution_count": 3,
   "metadata": {},
   "outputs": [],
   "source": [
    "images=datasets.load_sample_images()"
   ]
  },
  {
   "cell_type": "code",
   "execution_count": 4,
   "metadata": {},
   "outputs": [
    {
     "data": {
      "text/plain": [
       "dict_keys(['images', 'filenames', 'DESCR'])"
      ]
     },
     "execution_count": 4,
     "metadata": {},
     "output_type": "execute_result"
    }
   ],
   "source": [
    "images.keys()"
   ]
  },
  {
   "cell_type": "code",
   "execution_count": 5,
   "metadata": {},
   "outputs": [
    {
     "name": "stdout",
     "output_type": "stream",
     "text": [
      "Image: china.jpg\n",
      "Released under a creative commons license. [1]\n",
      "Attribution: Some rights reserved by danielbuechele [2]\n",
      "Retrieved 21st August, 2011 from [3] by Robert Layton\n",
      "\n",
      "[1] http://creativecommons.org/licenses/by/2.0/\n",
      "[2] http://www.flickr.com/photos/danielbuechele/\n",
      "[3] http://www.flickr.com/photos/danielbuechele/6061409035/sizes/z/in/photostream/\n",
      "\n",
      "\n",
      "Image: flower.jpg\n",
      "Released under a creative commons license. [1]\n",
      "Attribution: Some rights reserved by danielbuechele [2]\n",
      "Retrieved 21st August, 2011 from [3] by Robert Layton\n",
      "\n",
      "[1] http://creativecommons.org/licenses/by/2.0/\n",
      "[2] http://www.flickr.com/photos/vultilion/\n",
      "[3] http://www.flickr.com/photos/vultilion/6056698931/sizes/z/in/photostream/\n",
      "\n",
      "\n",
      "\n",
      "\n"
     ]
    }
   ],
   "source": [
    "print(images.DESCR)"
   ]
  },
  {
   "cell_type": "code",
   "execution_count": 7,
   "metadata": {},
   "outputs": [],
   "source": [
    "bostom=datasets.load_boston()"
   ]
  },
  {
   "cell_type": "code",
   "execution_count": 11,
   "metadata": {},
   "outputs": [
    {
     "data": {
      "text/plain": [
       "dict_keys(['data', 'target', 'feature_names', 'DESCR', 'filename'])"
      ]
     },
     "execution_count": 11,
     "metadata": {},
     "output_type": "execute_result"
    }
   ],
   "source": [
    "bostom.keys()"
   ]
  },
  {
   "cell_type": "code",
   "execution_count": 12,
   "metadata": {},
   "outputs": [],
   "source": [
    "X_train=bostom.data"
   ]
  },
  {
   "cell_type": "code",
   "execution_count": 13,
   "metadata": {},
   "outputs": [],
   "source": [
    "y_train=bostom.target"
   ]
  },
  {
   "cell_type": "code",
   "execution_count": 14,
   "metadata": {},
   "outputs": [
    {
     "data": {
      "text/plain": [
       "(506, 13)"
      ]
     },
     "execution_count": 14,
     "metadata": {},
     "output_type": "execute_result"
    }
   ],
   "source": [
    "X_train.shape"
   ]
  },
  {
   "cell_type": "code",
   "execution_count": 15,
   "metadata": {},
   "outputs": [
    {
     "data": {
      "text/plain": [
       "(506,)"
      ]
     },
     "execution_count": 15,
     "metadata": {},
     "output_type": "execute_result"
    }
   ],
   "source": [
    "y_train.shape"
   ]
  },
  {
   "cell_type": "code",
   "execution_count": 16,
   "metadata": {},
   "outputs": [],
   "source": [
    "import numpy as np"
   ]
  },
  {
   "cell_type": "code",
   "execution_count": 17,
   "metadata": {},
   "outputs": [],
   "source": [
    "from sklearn.preprocessing import StandardScaler"
   ]
  },
  {
   "cell_type": "code",
   "execution_count": 18,
   "metadata": {},
   "outputs": [],
   "source": [
    "standardScaler=StandardScaler()"
   ]
  },
  {
   "cell_type": "code",
   "execution_count": 20,
   "metadata": {},
   "outputs": [
    {
     "data": {
      "text/plain": [
       "StandardScaler(copy=True, with_mean=True, with_std=True)"
      ]
     },
     "execution_count": 20,
     "metadata": {},
     "output_type": "execute_result"
    }
   ],
   "source": [
    "standardScaler.fit(X_train)"
   ]
  },
  {
   "cell_type": "code",
   "execution_count": 21,
   "metadata": {},
   "outputs": [],
   "source": [
    "X_train=standardScaler.transform(X_train)"
   ]
  },
  {
   "cell_type": "code",
   "execution_count": 22,
   "metadata": {},
   "outputs": [
    {
     "data": {
      "text/plain": [
       "array([[-0.41978194,  0.28482986, -1.2879095 , -0.27259857, -0.14421743,\n",
       "         0.41367189, -0.12001342,  0.1402136 , -0.98284286, -0.66660821,\n",
       "        -1.45900038,  0.44105193, -1.0755623 ],\n",
       "       [-0.41733926, -0.48772236, -0.59338101, -0.27259857, -0.74026221,\n",
       "         0.19427445,  0.36716642,  0.55715988, -0.8678825 , -0.98732948,\n",
       "        -0.30309415,  0.44105193, -0.49243937]])"
      ]
     },
     "execution_count": 22,
     "metadata": {},
     "output_type": "execute_result"
    }
   ],
   "source": [
    "X_train[:2,:]"
   ]
  },
  {
   "cell_type": "code",
   "execution_count": 23,
   "metadata": {},
   "outputs": [],
   "source": [
    "X_train=bostom.data"
   ]
  },
  {
   "cell_type": "code",
   "execution_count": 24,
   "metadata": {},
   "outputs": [],
   "source": [
    "from sklearn.model_selection import train_test_split"
   ]
  },
  {
   "cell_type": "code",
   "execution_count": 25,
   "metadata": {},
   "outputs": [],
   "source": [
    "X_train,X_test,y_train,y_test=train_test_split(bostom.data,bostom.target,test_size=0.2,random_state=666)"
   ]
  },
  {
   "cell_type": "code",
   "execution_count": 52,
   "metadata": {},
   "outputs": [],
   "source": [
    "X_train = standardScaler.transform(X_train)\n",
    "X_test_standard = standardScaler.transform(X_test)"
   ]
  },
  {
   "cell_type": "code",
   "execution_count": 55,
   "metadata": {},
   "outputs": [
    {
     "data": {
      "text/plain": [
       "array([[ -0.46893015,  -0.41194551,  -1.74879661,  -1.34690855,\n",
       "        -15.96199604,  -9.10697042,  -2.48569884,  -1.00812379,\n",
       "         -1.14471176,  -2.42870094,  -8.92982078,  -3.90586605,\n",
       "         -1.88195221],\n",
       "       [ -0.41833086,  -0.5086552 ,  -1.47671633,  -1.34690855,\n",
       "          2.69319052,  -9.62859107,  -2.41817164,  -2.01274449,\n",
       "         -0.90682587,  -2.41554334,  -8.16021611,  -3.95093426,\n",
       "         -1.68526883],\n",
       "       [ -0.45883418,  -0.5086552 ,  -1.68876012,  -1.34690855,\n",
       "         -6.03743679,  -9.55146428,  -2.4219653 ,  -1.69945161,\n",
       "         -1.17114352,  -2.42820709,  -7.98919285,  -3.90708625,\n",
       "         -1.73399758]])"
      ]
     },
     "execution_count": 55,
     "metadata": {},
     "output_type": "execute_result"
    }
   ],
   "source": [
    "X_train[:3,:]"
   ]
  },
  {
   "cell_type": "code",
   "execution_count": 56,
   "metadata": {},
   "outputs": [
    {
     "data": {
      "text/plain": [
       "array([23.2, 19. , 17.5, 26.4, 20.2, 21.5, 21.2, 19.4, 38.7, 21.4, 23.1,\n",
       "       10.9, 20.1, 29.6, 13.6, 11.5, 33.4, 16. , 24.3, 23.2, 21. ,  6.3,\n",
       "        8.3, 32. , 13.1, 23.9, 16.5, 14.9, 13.9, 26.4, 23.7, 36.2, 42.8,\n",
       "       32.7, 25. , 33.4, 36.2, 32.2, 25. , 14.4, 35.1, 20.1, 24. , 24.7,\n",
       "       21.4, 19.1, 15.4, 31.5, 17.6, 26.6, 22. , 12.7,  8.8, 13.3, 24.3,\n",
       "       20. , 19.8, 16.4, 24.8, 21.2, 10.4, 21.2, 19.2, 30.7, 27.1, 23.3,\n",
       "       22.2, 27. , 18.2, 17.7, 19.8,  7.4, 22.4, 18.1, 18.6, 10.5, 20. ,\n",
       "       19.9, 23.5, 23.1, 19.3, 24.7, 21.6, 48.3, 11.7, 41.7, 14.3, 21.5,\n",
       "       13.6, 13.8, 20.4, 18.5, 37.6, 23.7, 17.3, 16.5, 31.6, 16.2, 24.3,\n",
       "       34.9, 19.5, 17.1, 27.5, 50. , 23.1, 36. , 50. , 22. , 22. , 17.1,\n",
       "       23. , 18.5, 24.1, 21.4,  9.6, 13.3, 22.8, 21.9, 19.4, 21.6, 23.8,\n",
       "       21.7, 11.3,  7.5, 24.4, 28.1, 17.5, 20.7, 39.8, 12.8,  7.2, 50. ,\n",
       "       13.4, 44.8, 15.3, 21.7, 18.2, 14.9, 34.6, 22.9, 25. , 20.1, 34.9,\n",
       "       35.2, 22.2, 19.4, 21.9,  8.8, 13.1, 28.7, 44. , 24.5, 20.1, 11.9,\n",
       "       31.5, 21.8, 50. , 22.2, 25.2, 21.2, 50. , 11. , 22.6, 50. , 13.4,\n",
       "       27.9, 31.2, 23.8, 43.8, 29.8, 14.1, 34.9, 14. , 29.1, 19.5, 21.7,\n",
       "       14.3, 21.7, 26.7, 19.7, 23.3, 16.3, 10.2,  8.4, 19.6, 29.8, 23.2,\n",
       "       50. , 28.4, 23.6, 24.6, 20.8, 50. , 20. ,  8.5, 23. , 15.6,  5. ,\n",
       "       17.4, 20.6, 20.3, 23.3, 24.1, 23. , 28.7, 19.4, 31.1, 27.1, 19.3,\n",
       "       24.1, 15.2, 18.2, 50. , 18.3, 12.7, 24.8, 14.5, 22.8, 29. , 29. ,\n",
       "       19.5, 15.2, 18.7, 13.4, 32.5, 18.5, 29.1, 22.3, 20.3, 48.5, 21.9,\n",
       "       22.6, 24.4, 22.8, 16.6, 26.2, 12.7, 21.4, 11.7, 36.1, 10.2, 13.3,\n",
       "       18.4, 21.2, 20.1, 15.1, 41.3,  8.7, 12.1, 10.4, 30.8, 13.8, 22.7,\n",
       "       13.8, 16.8, 25. , 23.4, 30.1, 36.5, 19.2, 19.9, 17.4, 20.5, 48.8,\n",
       "       20. , 14.8, 13.2, 11.8, 33.8, 23.9, 15. , 18.7, 17.2, 16.8, 19.3,\n",
       "       30.3,  8.1, 23.9, 20.6, 21.7, 21. , 20.6, 24.8, 22.5, 17.1, 50. ,\n",
       "       42.3,  8.5, 22.6, 13.8, 20.4, 20.7, 21.4, 16.6, 23.1, 30.5, 15. ,\n",
       "       25. , 16.7, 17.2, 32.4, 18.5, 23.8, 17.8, 12.5, 10.2, 14.6, 28.7,\n",
       "       35.4, 18.4, 22.9, 33.2, 26.6, 33.1, 20.9, 19.9, 23.8, 14.6, 22.4,\n",
       "       12.3, 16.1, 13.1, 20.4, 19.6, 20.6, 23.6, 27.5, 14.9, 19.3, 20.8,\n",
       "       21.8, 18.9, 50. , 19. , 31.6, 28. , 15.6, 13. , 19.6, 21.1, 16.1,\n",
       "       22.5, 28.5, 23. , 34.7, 14.1, 15.7, 21.7, 18.6, 13.4, 50. , 14.1,\n",
       "       19.1, 36.4, 50. , 22. , 19.3, 25.3, 43.1, 46. , 18.3, 22.2, 23.1,\n",
       "       29.4, 20.5, 22.6, 22.9, 22.7, 16.1, 18.8, 27.9, 17.8, 15.6, 17.8,\n",
       "       33.2, 13.8, 24.6, 14.4, 20.2, 50. , 21.7, 20.9, 28.6, 20. ,  5.6,\n",
       "       25. , 50. , 21.1, 13.1, 30.1, 18.7, 20.5, 27.5, 22. , 11.8, 16.7,\n",
       "       20.6, 13.5, 24.2, 23.1,  7. ,  9.5, 10.5, 25.1])"
      ]
     },
     "execution_count": 56,
     "metadata": {},
     "output_type": "execute_result"
    }
   ],
   "source": [
    "y_train"
   ]
  },
  {
   "cell_type": "code",
   "execution_count": 27,
   "metadata": {},
   "outputs": [],
   "source": [
    "from sklearn.neighbors import KNeighborsClassifier\n",
    "knn_clf=KNeighborsClassifier(n_neighbors=3)"
   ]
  },
  {
   "cell_type": "code",
   "execution_count": 28,
   "metadata": {},
   "outputs": [
    {
     "ename": "ValueError",
     "evalue": "Unknown label type: 'continuous'",
     "output_type": "error",
     "traceback": [
      "\u001b[0;31m---------------------------------------------------------------------------\u001b[0m",
      "\u001b[0;31mValueError\u001b[0m                                Traceback (most recent call last)",
      "\u001b[0;32m<ipython-input-28-f6ff47e0fe20>\u001b[0m in \u001b[0;36m<module>\u001b[0;34m\u001b[0m\n\u001b[0;32m----> 1\u001b[0;31m \u001b[0mknn_clf\u001b[0m\u001b[0;34m.\u001b[0m\u001b[0mfit\u001b[0m\u001b[0;34m(\u001b[0m\u001b[0mX_train\u001b[0m\u001b[0;34m,\u001b[0m\u001b[0my_train\u001b[0m\u001b[0;34m)\u001b[0m\u001b[0;34m\u001b[0m\u001b[0;34m\u001b[0m\u001b[0m\n\u001b[0m",
      "\u001b[0;32m/anaconda3/lib/python3.7/site-packages/sklearn/neighbors/base.py\u001b[0m in \u001b[0;36mfit\u001b[0;34m(self, X, y)\u001b[0m\n\u001b[1;32m    903\u001b[0m             \u001b[0mself\u001b[0m\u001b[0;34m.\u001b[0m\u001b[0moutputs_2d_\u001b[0m \u001b[0;34m=\u001b[0m \u001b[0;32mTrue\u001b[0m\u001b[0;34m\u001b[0m\u001b[0;34m\u001b[0m\u001b[0m\n\u001b[1;32m    904\u001b[0m \u001b[0;34m\u001b[0m\u001b[0m\n\u001b[0;32m--> 905\u001b[0;31m         \u001b[0mcheck_classification_targets\u001b[0m\u001b[0;34m(\u001b[0m\u001b[0my\u001b[0m\u001b[0;34m)\u001b[0m\u001b[0;34m\u001b[0m\u001b[0;34m\u001b[0m\u001b[0m\n\u001b[0m\u001b[1;32m    906\u001b[0m         \u001b[0mself\u001b[0m\u001b[0;34m.\u001b[0m\u001b[0mclasses_\u001b[0m \u001b[0;34m=\u001b[0m \u001b[0;34m[\u001b[0m\u001b[0;34m]\u001b[0m\u001b[0;34m\u001b[0m\u001b[0;34m\u001b[0m\u001b[0m\n\u001b[1;32m    907\u001b[0m         \u001b[0mself\u001b[0m\u001b[0;34m.\u001b[0m\u001b[0m_y\u001b[0m \u001b[0;34m=\u001b[0m \u001b[0mnp\u001b[0m\u001b[0;34m.\u001b[0m\u001b[0mempty\u001b[0m\u001b[0;34m(\u001b[0m\u001b[0my\u001b[0m\u001b[0;34m.\u001b[0m\u001b[0mshape\u001b[0m\u001b[0;34m,\u001b[0m \u001b[0mdtype\u001b[0m\u001b[0;34m=\u001b[0m\u001b[0mnp\u001b[0m\u001b[0;34m.\u001b[0m\u001b[0mint\u001b[0m\u001b[0;34m)\u001b[0m\u001b[0;34m\u001b[0m\u001b[0;34m\u001b[0m\u001b[0m\n",
      "\u001b[0;32m/anaconda3/lib/python3.7/site-packages/sklearn/utils/multiclass.py\u001b[0m in \u001b[0;36mcheck_classification_targets\u001b[0;34m(y)\u001b[0m\n\u001b[1;32m    169\u001b[0m     if y_type not in ['binary', 'multiclass', 'multiclass-multioutput',\n\u001b[1;32m    170\u001b[0m                       'multilabel-indicator', 'multilabel-sequences']:\n\u001b[0;32m--> 171\u001b[0;31m         \u001b[0;32mraise\u001b[0m \u001b[0mValueError\u001b[0m\u001b[0;34m(\u001b[0m\u001b[0;34m\"Unknown label type: %r\"\u001b[0m \u001b[0;34m%\u001b[0m \u001b[0my_type\u001b[0m\u001b[0;34m)\u001b[0m\u001b[0;34m\u001b[0m\u001b[0;34m\u001b[0m\u001b[0m\n\u001b[0m\u001b[1;32m    172\u001b[0m \u001b[0;34m\u001b[0m\u001b[0m\n\u001b[1;32m    173\u001b[0m \u001b[0;34m\u001b[0m\u001b[0m\n",
      "\u001b[0;31mValueError\u001b[0m: Unknown label type: 'continuous'"
     ]
    }
   ],
   "source": [
    "knn_clf.fit(X_train,y_train)"
   ]
  },
  {
   "cell_type": "code",
   "execution_count": 29,
   "metadata": {},
   "outputs": [
    {
     "data": {
      "text/plain": [
       "(102, 13)"
      ]
     },
     "execution_count": 29,
     "metadata": {},
     "output_type": "execute_result"
    }
   ],
   "source": [
    "X_test_standard.shape"
   ]
  },
  {
   "cell_type": "code",
   "execution_count": 30,
   "metadata": {},
   "outputs": [
    {
     "data": {
      "text/plain": [
       "(102,)"
      ]
     },
     "execution_count": 30,
     "metadata": {},
     "output_type": "execute_result"
    }
   ],
   "source": [
    "y_test.shape"
   ]
  },
  {
   "cell_type": "code",
   "execution_count": 50,
   "metadata": {},
   "outputs": [
    {
     "data": {
      "text/plain": [
       "array([23, 17, 22, 37, 25, 19, 16, 18, 29, 18,  8, 24, 19, 15, 22, 23, 26,\n",
       "       15, 12, 28, 37,  8,  7, 46, 26, 19, 24, 15, 37, 33, 43,  7, 24, 22,\n",
       "       19, 20, 31, 30, 21, 13, 24, 11, 24, 20, 23, 10, 23, 33, 22, 19, 22,\n",
       "       32, 15, 20, 20, 20, 17, 19, 17, 14, 19, 23, 24, 14, 15, 12, 22, 22,\n",
       "       17, 25,  5, 31, 19, 23, 45, 18,  7, 23, 19, 35, 28, 23,  9, 29, 32,\n",
       "       17, 18, 27, 17, 50, 19, 33, 24, 37, 18, 14, 22, 22, 13, 17, 18, 10])"
      ]
     },
     "execution_count": 50,
     "metadata": {},
     "output_type": "execute_result"
    }
   ],
   "source": [
    "y_test.astype(int)"
   ]
  },
  {
   "cell_type": "code",
   "execution_count": 32,
   "metadata": {},
   "outputs": [],
   "source": [
    "from sklearn import utils"
   ]
  },
  {
   "cell_type": "code",
   "execution_count": 45,
   "metadata": {},
   "outputs": [
    {
     "name": "stdout",
     "output_type": "stream",
     "text": [
      "continuous\n"
     ]
    }
   ],
   "source": [
    "print(utils.multiclass.type_of_target(y_test))"
   ]
  },
  {
   "cell_type": "code",
   "execution_count": 38,
   "metadata": {},
   "outputs": [
    {
     "name": "stdout",
     "output_type": "stream",
     "text": [
      "multiclass\n"
     ]
    }
   ],
   "source": [
    "print(utils.multiclass.type_of_target(y_test.astype('int')))"
   ]
  },
  {
   "cell_type": "code",
   "execution_count": 39,
   "metadata": {},
   "outputs": [
    {
     "data": {
      "text/plain": [
       "array([23.9, 17.8, 22.1, 37.3, 25. , 19.7, 16.2, 18.9, 29.6, 18.4,  8.4,\n",
       "       24.7, 19.8, 15.4, 22.2, 23.3, 26.6, 15.6, 12.6, 28.4, 37. ,  8.3,\n",
       "        7.2, 46.7, 26.5, 19.4, 24.5, 15.6, 37.9, 33. , 43.5,  7. , 24.8,\n",
       "       22.5, 19.4, 20.3, 31. , 30.1, 21. , 13.5, 24.4, 11.9, 24.5, 20.8,\n",
       "       23.7, 10.8, 23.7, 33.1, 22.9, 19.1, 22.3, 32. , 15. , 20.3, 20.6,\n",
       "       20.4, 17.2, 19.9, 17.8, 14.5, 19.6, 23.9, 24. , 14.2, 15.2, 12. ,\n",
       "       22. , 22.6, 17.4, 25. ,  5. , 31.7, 19.6, 23.2, 45.4, 18.9,  7.2,\n",
       "       23.1, 19.5, 35.4, 28.2, 23.4,  9.7, 29.9, 32.9, 17. , 18.9, 27.5,\n",
       "       17.5, 50. , 19.1, 33.3, 24.4, 37.2, 18.8, 14.5, 22.8, 22. , 13.9,\n",
       "       17.9, 18. , 10.9])"
      ]
     },
     "execution_count": 39,
     "metadata": {},
     "output_type": "execute_result"
    }
   ],
   "source": [
    "y_test"
   ]
  },
  {
   "cell_type": "code",
   "execution_count": 57,
   "metadata": {},
   "outputs": [
    {
     "name": "stdout",
     "output_type": "stream",
     "text": [
      "multiclass\n"
     ]
    }
   ],
   "source": [
    "print(utils.multiclass.type_of_target(y_train.astype(int)))"
   ]
  },
  {
   "cell_type": "code",
   "execution_count": 58,
   "metadata": {},
   "outputs": [
    {
     "data": {
      "text/plain": [
       "KNeighborsClassifier(algorithm='auto', leaf_size=30, metric='minkowski',\n",
       "           metric_params=None, n_jobs=None, n_neighbors=3, p=2,\n",
       "           weights='uniform')"
      ]
     },
     "execution_count": 58,
     "metadata": {},
     "output_type": "execute_result"
    }
   ],
   "source": [
    "knn_clf.fit(X_train,y_train.astype(int))"
   ]
  },
  {
   "cell_type": "code",
   "execution_count": 59,
   "metadata": {},
   "outputs": [
    {
     "data": {
      "text/plain": [
       "0.0196078431372549"
      ]
     },
     "execution_count": 59,
     "metadata": {},
     "output_type": "execute_result"
    }
   ],
   "source": [
    "knn_clf.score(X_test_standard,y_test.astype(int))"
   ]
  },
  {
   "cell_type": "code",
   "execution_count": 63,
   "metadata": {},
   "outputs": [],
   "source": [
    "y_test=y_test.astype(int)\n",
    "y_train=y_train.astype(int)"
   ]
  },
  {
   "cell_type": "code",
   "execution_count": 64,
   "metadata": {},
   "outputs": [
    {
     "name": "stdout",
     "output_type": "stream",
     "text": [
      "best_k= 1\n",
      "best_score= 0.0392156862745098\n",
      "best_method= uniform\n"
     ]
    }
   ],
   "source": [
    "best_method=\"\"\n",
    "best_score=0.0\n",
    "best_k=-1\n",
    "for method in [\"uniform\",\"distance\"]:\n",
    "    for k in range(1,11):\n",
    "        knn_clf=KNeighborsClassifier(n_neighbors=k,weights=method)\n",
    "        knn_clf.fit(X_train,y_train)\n",
    "        score=knn_clf.score(X_test,y_test)\n",
    "        if score>best_score:\n",
    "            best_k=k\n",
    "            best_score=score\n",
    "            best_method=method\n",
    "print(\"best_k=\",best_k)\n",
    "print(\"best_score=\",best_score)\n",
    "print(\"best_method=\",best_method)"
   ]
  },
  {
   "cell_type": "code",
   "execution_count": 65,
   "metadata": {},
   "outputs": [
    {
     "name": "stdout",
     "output_type": "stream",
     "text": [
      "best_k= 1\n",
      "best_score= 0.049019607843137254\n",
      "best_p= 5\n",
      "CPU times: user 596 ms, sys: 3.81 ms, total: 600 ms\n",
      "Wall time: 603 ms\n"
     ]
    }
   ],
   "source": [
    "%%time\n",
    "best_p=-1\n",
    "best_method=\"\"\n",
    "best_score=0.0\n",
    "best_k=-1\n",
    "\n",
    "\n",
    "for k in range(1,11):\n",
    "    for p in range(1,6):\n",
    "        knn_clf=KNeighborsClassifier(n_neighbors=k,weights=\"distance\",p=p)\n",
    "        knn_clf.fit(X_train,y_train)\n",
    "        score=knn_clf.score(X_test,y_test)\n",
    "        if score>best_score:\n",
    "            best_k=k\n",
    "            best_score=score\n",
    "            best_p=p\n",
    "print(\"best_k=\",best_k)\n",
    "print(\"best_score=\",best_score)\n",
    "print(\"best_p=\",p)"
   ]
  },
  {
   "cell_type": "code",
   "execution_count": null,
   "metadata": {},
   "outputs": [],
   "source": []
  }
 ],
 "metadata": {
  "kernelspec": {
   "display_name": "Python 3",
   "language": "python",
   "name": "python3"
  },
  "language_info": {
   "codemirror_mode": {
    "name": "ipython",
    "version": 3
   },
   "file_extension": ".py",
   "mimetype": "text/x-python",
   "name": "python",
   "nbconvert_exporter": "python",
   "pygments_lexer": "ipython3",
   "version": "3.7.1"
  }
 },
 "nbformat": 4,
 "nbformat_minor": 2
}
